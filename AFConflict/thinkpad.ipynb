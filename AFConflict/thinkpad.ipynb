{
 "cells": [
  {
   "cell_type": "markdown",
   "metadata": {
    "collapsed": true,
    "pycharm": {
     "name": "#%% md\n"
    }
   },
   "source": [
    "# Corpus & Dataset Constructor Ops"
   ]
  },
  {
   "cell_type": "code",
   "execution_count": null,
   "outputs": [],
   "source": [
    "from dataops.corpus import *\n",
    "df['gen.bin'], df['cor.bin'] = bucket(df['generosity'].values,4), bucket(df['corruption'].values,7)\n",
    "\n",
    "df['col.bin'] =numlabel(df['colonizer'].values)\n",
    "df.to_csv('data/inputs.csv', index=False, encoding='utf-8')"
   ],
   "metadata": {
    "collapsed": false,
    "pycharm": {
     "name": "#%%\n"
    }
   }
  },
  {
   "cell_type": "markdown",
   "source": [
    "# Analysis Ops"
   ],
   "metadata": {
    "collapsed": false,
    "pycharm": {
     "name": "#%% md\n"
    }
   }
  },
  {
   "cell_type": "code",
   "execution_count": 3,
   "outputs": [],
   "source": [
    "import numpy as np\n",
    "import pandas as pd\n",
    "\n",
    "df = pd.read_csv('data/inputs.csv')\n",
    "theta = np.load('data/posteriors/0419/theta.npy')\n",
    "\n",
    "colons = {i:c for i,c in enumerate(df['colonizer'].unique())}\n",
    "data = []\n",
    "for i,C in enumerate(theta):\n",
    "    for j,G in enumerate(C):\n",
    "        for g in G:\n",
    "            data.append([colons[i],'gen.'+str(j),g])\n",
    "data = pd.DataFrame(np.array(data), columns=['colonizer', 'generosity','lambda'])\n",
    "\n",
    "import seaborn as sns\n",
    "import matplotlib.pyplot as plt\n",
    "sns.set_style('darkgrid')\n",
    "\n",
    "#Example plot\n",
    "ax = sns.kdeplot(data=data, x='lambda', hue='colonizer')\n",
    "plt.setp(ax.get_legend().get_texts(), fontsize='7')\n",
    "plt.xlim(0,20)\n",
    "plt.show()"
   ],
   "metadata": {
    "collapsed": false,
    "pycharm": {
     "name": "#%%\n"
    }
   }
  },
  {
   "cell_type": "code",
   "execution_count": null,
   "outputs": [],
   "source": [],
   "metadata": {
    "collapsed": false,
    "pycharm": {
     "name": "#%%\n"
    }
   }
  }
 ],
 "metadata": {
  "kernelspec": {
   "display_name": "Python 3",
   "language": "python",
   "name": "python3"
  },
  "language_info": {
   "codemirror_mode": {
    "name": "ipython",
    "version": 2
   },
   "file_extension": ".py",
   "mimetype": "text/x-python",
   "name": "python",
   "nbconvert_exporter": "python",
   "pygments_lexer": "ipython2",
   "version": "2.7.6"
  }
 },
 "nbformat": 4,
 "nbformat_minor": 0
}