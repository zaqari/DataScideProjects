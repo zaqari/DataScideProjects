{
 "cells": [
  {
   "cell_type": "markdown",
   "metadata": {
    "collapsed": true,
    "pycharm": {
     "name": "#%% md\n"
    }
   },
   "source": [
    "# Do UFO Shapes vary regionally? A Data Science Exploration"
   ]
  },
  {
   "cell_type": "code",
   "execution_count": null,
   "outputs": [],
   "source": [
    "import pandas as pd\n",
    "import numpy as np\n",
    "from kgen2.BERTcruncher.context_vecs import *\n",
    "\n",
    "PATH = DPATH+'ufo/'\n",
    "df = pd.read_csv(PATH + 'sightings.csv')\n",
    "\n",
    "print(PATH, len(df))\n",
    "\n",
    "level=0\n",
    "W_ = ['ship', 'ufo', 'craft']\n",
    "\n",
    "#(1) Set up .csv file for data repo\n",
    "tweet_data = pd.DataFrame(columns=['state', 'shape', 'w', 'vec'])\n",
    "tweet_data.to_csv(PATH+'ufo-vecs.csv', index=False, encoding='utf-8')\n",
    "\n",
    "#(2) Generate embeddings with appropriate metadata\n",
    "for name,r,TEXT in df[['state', 'shape', 'text']].values:\n",
    "    vecs = []\n",
    "\n",
    "    for w_ in W_:\n",
    "        if w_ in TEXT.lower():\n",
    "            try:\n",
    "                vecs = nC(str(w_),str(TEXT),layer_no=level)\n",
    "                update = [[name, r, w_, str(vec.view(-1).tolist())] for vec in vecs]\n",
    "                update = pd.DataFrame(np.array(update), columns=list(tweet_data))\n",
    "                update.to_csv(PATH +'ufo-vecs.csv', index=False, encoding='utf-8', header=False, mode='a')\n",
    "            except ValueError:\n",
    "                0\n",
    "            except IndexError:\n",
    "                0"
   ],
   "metadata": {
    "collapsed": false,
    "pycharm": {
     "name": "#%%\n"
    }
   }
  },
  {
   "cell_type": "markdown",
   "source": [],
   "metadata": {
    "collapsed": false,
    "pycharm": {
     "name": "#%% md\n"
    }
   }
  },
  {
   "cell_type": "code",
   "execution_count": null,
   "outputs": [],
   "source": [
    "import pyjags\n",
    "import pandas as pd\n",
    "import numpy as np\n",
    "\n",
    "DATAPATH = '/home/zaq/d/ufo/'\n",
    "df = pd.read_csv(DATAPATH+'shape_counts.csv')\n",
    "df['shape'], df['state'] = df['shape'].fillna('unknown'), df['state'].fillna('UNK')\n",
    "\n",
    "A = df['abduction'].values\n",
    "\n",
    "cdic = {shape:i for i, shape in enumerate(df['shape'].unique())}\n",
    "cat = np.array([cdic[shape] for shape in df['shape'].values])\n",
    "dicc = {i:shape for shape, i in cdic.items()}\n",
    "\n",
    "sdic = {state:i for i, state in enumerate(df['state'].unique())}\n",
    "sta = np.array([sdic[state] for state in df['state'].values])\n",
    "dics = {i:state for state, i in sdic.items()}\n",
    "\n",
    "inputs = {'A': A,\n",
    "          'C': cat, 'Cm': cat.max(),\n",
    "          'S': sta, 'Sm': sta.max(),\n",
    "          'IDX': len(df)\n",
    "          }\n",
    "\n",
    "m = \"\"\"\n",
    "model {\n",
    "    for (c in 1:Cm){\n",
    "        CRAFT[c] ~ dunif(0,100)\n",
    "    }\n",
    "\n",
    "    for (s in 1:Sm){\n",
    "        STATE[s] ~ dunif(1,10)\n",
    "    }\n",
    "\n",
    "    for (i in 1:IDX){\n",
    "        A ~ dpois( (CRAFT[C[i]] * STATE[S[i]]) / N )\n",
    "    }\n",
    "\n",
    "    N ~ dunif(1,IDX*2)\n",
    "\n",
    "}\n",
    "\"\"\"\n",
    "\n",
    "Nsamples = 1000\n",
    "chains = 3\n",
    "burn_in = 1000\n",
    "\n",
    "varnames = [\n",
    "    'CRAFT',\n",
    "    'STATE',\n",
    "    'N'\n",
    "]\n",
    "\n",
    "model = pyjags.Model(m, data=inputs, chains=chains)\n",
    "\n",
    "model.sample(burn_in, vars=[])\n",
    "\n",
    "samples = model.sample(Nsamples, vars=varnames)\n",
    "for i in varnames:\n",
    "    x = samples[i].reshape(*samples[i].shape[:-2], samples[i].shape[-2]*samples[i].shape[-1])\n",
    "    np.save(DATAPATH+i+'.npy', x, allow_pickle=False)\n",
    "\n",
    "    print(i, x.shape)"
   ],
   "metadata": {
    "collapsed": false,
    "pycharm": {
     "name": "#%%\n"
    }
   }
  }
 ],
 "metadata": {
  "kernelspec": {
   "display_name": "Python 3",
   "language": "python",
   "name": "python3"
  },
  "language_info": {
   "codemirror_mode": {
    "name": "ipython",
    "version": 2
   },
   "file_extension": ".py",
   "mimetype": "text/x-python",
   "name": "python",
   "nbconvert_exporter": "python",
   "pygments_lexer": "ipython2",
   "version": "2.7.6"
  }
 },
 "nbformat": 4,
 "nbformat_minor": 0
}